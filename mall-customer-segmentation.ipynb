{
 "cells": [
  {
   "cell_type": "markdown",
   "id": "14fc7ee9",
   "metadata": {
    "papermill": {
     "duration": 0.004789,
     "end_time": "2025-07-27T12:16:20.648197",
     "exception": false,
     "start_time": "2025-07-27T12:16:20.643408",
     "status": "completed"
    },
    "tags": []
   },
   "source": [
    "**Project Title**: Mall Customer Segmentation using K-Means Clustering\n",
    "\n",
    "**Objective:**\n",
    "\n",
    "To analyze mall customer data and segment them into distinct groups based on their age, annual income, and spending behavior. This helps businesses target the right customers with personalized marketing.\n",
    "\n",
    "**Dataset Info:**\n",
    "\n",
    "-->200 records\n",
    "\n",
    "**Columns:** CustomerID, Gender, Age, Annual Income, Spending Score\n",
    "\n",
    "**Techniques:**\n",
    "\n",
    "1.Exploratory Data Analysis (EDA)\n",
    "\n",
    "2.Data Preprocessing (Scaling)\n",
    "\n",
    "3.K-Means Clustering\n",
    "\n",
    "4.Visualization (Seaborn, Matplotlib)\n",
    "\n",
    "**Key Insights:**\n",
    "\n",
    "--> Identified 5 unique customer segments\n",
    "\n",
    "--> Found high-income, high-spending customers (ideal for luxury products)\n",
    "\n",
    "--> Found low-income, low-spending customers (targeted with discounts)\n",
    "\n",
    "--> One group had high income but low spending (potential for upselling) \n",
    "\n",
    "**Business Use:** Companies can use these segments to:\n",
    "\n",
    "1)Personalize promotions\n",
    "\n",
    "2)Increase customer retention\n",
    "\n",
    "3)Improve campaign targeting\n",
    "\n",
    "**Conclusion:**\n",
    "\n",
    "K-Means clustering helped uncover hidden customer segments using only basic features. This simple segmentation approach can help businesses optimize marketing and improve sales conversion."
   ]
  },
  {
   "cell_type": "markdown",
   "id": "e615985f",
   "metadata": {
    "papermill": {
     "duration": 0.003229,
     "end_time": "2025-07-27T12:16:20.655271",
     "exception": false,
     "start_time": "2025-07-27T12:16:20.652042",
     "status": "completed"
    },
    "tags": []
   },
   "source": [
    "**1.Load and Explore Dataset:**\n"
   ]
  },
  {
   "cell_type": "code",
   "execution_count": 1,
   "id": "6958e3f6",
   "metadata": {
    "execution": {
     "iopub.execute_input": "2025-07-27T12:16:20.663695Z",
     "iopub.status.busy": "2025-07-27T12:16:20.663301Z",
     "iopub.status.idle": "2025-07-27T12:16:22.599431Z",
     "shell.execute_reply": "2025-07-27T12:16:22.598444Z"
    },
    "papermill": {
     "duration": 1.942356,
     "end_time": "2025-07-27T12:16:22.601204",
     "exception": false,
     "start_time": "2025-07-27T12:16:20.658848",
     "status": "completed"
    },
    "tags": []
   },
   "outputs": [
    {
     "data": {
      "text/html": [
       "<div>\n",
       "<style scoped>\n",
       "    .dataframe tbody tr th:only-of-type {\n",
       "        vertical-align: middle;\n",
       "    }\n",
       "\n",
       "    .dataframe tbody tr th {\n",
       "        vertical-align: top;\n",
       "    }\n",
       "\n",
       "    .dataframe thead th {\n",
       "        text-align: right;\n",
       "    }\n",
       "</style>\n",
       "<table border=\"1\" class=\"dataframe\">\n",
       "  <thead>\n",
       "    <tr style=\"text-align: right;\">\n",
       "      <th></th>\n",
       "      <th>CustomerID</th>\n",
       "      <th>Gender</th>\n",
       "      <th>Age</th>\n",
       "      <th>Annual Income (k$)</th>\n",
       "      <th>Spending Score (1-100)</th>\n",
       "    </tr>\n",
       "  </thead>\n",
       "  <tbody>\n",
       "    <tr>\n",
       "      <th>0</th>\n",
       "      <td>1</td>\n",
       "      <td>Male</td>\n",
       "      <td>19</td>\n",
       "      <td>15</td>\n",
       "      <td>39</td>\n",
       "    </tr>\n",
       "    <tr>\n",
       "      <th>1</th>\n",
       "      <td>2</td>\n",
       "      <td>Male</td>\n",
       "      <td>21</td>\n",
       "      <td>15</td>\n",
       "      <td>81</td>\n",
       "    </tr>\n",
       "    <tr>\n",
       "      <th>2</th>\n",
       "      <td>3</td>\n",
       "      <td>Female</td>\n",
       "      <td>20</td>\n",
       "      <td>16</td>\n",
       "      <td>6</td>\n",
       "    </tr>\n",
       "    <tr>\n",
       "      <th>3</th>\n",
       "      <td>4</td>\n",
       "      <td>Female</td>\n",
       "      <td>23</td>\n",
       "      <td>16</td>\n",
       "      <td>77</td>\n",
       "    </tr>\n",
       "    <tr>\n",
       "      <th>4</th>\n",
       "      <td>5</td>\n",
       "      <td>Female</td>\n",
       "      <td>31</td>\n",
       "      <td>17</td>\n",
       "      <td>40</td>\n",
       "    </tr>\n",
       "  </tbody>\n",
       "</table>\n",
       "</div>"
      ],
      "text/plain": [
       "   CustomerID  Gender  Age  Annual Income (k$)  Spending Score (1-100)\n",
       "0           1    Male   19                  15                      39\n",
       "1           2    Male   21                  15                      81\n",
       "2           3  Female   20                  16                       6\n",
       "3           4  Female   23                  16                      77\n",
       "4           5  Female   31                  17                      40"
      ]
     },
     "execution_count": 1,
     "metadata": {},
     "output_type": "execute_result"
    }
   ],
   "source": [
    "import pandas as pd\n",
    "\n",
    "file_path = '/kaggle/input/mall-customers/Mall_Customers.csv'\n",
    "\n",
    "df = pd.read_csv(file_path)\n",
    "df.head()\n"
   ]
  },
  {
   "cell_type": "markdown",
   "id": "a479b85d",
   "metadata": {
    "papermill": {
     "duration": 0.003698,
     "end_time": "2025-07-27T12:16:22.608890",
     "exception": false,
     "start_time": "2025-07-27T12:16:22.605192",
     "status": "completed"
    },
    "tags": []
   },
   "source": [
    "**2.Data Cleaning and Preprocessing:**\n"
   ]
  },
  {
   "cell_type": "code",
   "execution_count": 2,
   "id": "92469ea0",
   "metadata": {
    "execution": {
     "iopub.execute_input": "2025-07-27T12:16:22.618217Z",
     "iopub.status.busy": "2025-07-27T12:16:22.617342Z",
     "iopub.status.idle": "2025-07-27T12:16:22.674751Z",
     "shell.execute_reply": "2025-07-27T12:16:22.673875Z"
    },
    "papermill": {
     "duration": 0.063534,
     "end_time": "2025-07-27T12:16:22.676150",
     "exception": false,
     "start_time": "2025-07-27T12:16:22.612616",
     "status": "completed"
    },
    "tags": []
   },
   "outputs": [
    {
     "name": "stdout",
     "output_type": "stream",
     "text": [
      "<class 'pandas.core.frame.DataFrame'>\n",
      "RangeIndex: 200 entries, 0 to 199\n",
      "Data columns (total 4 columns):\n",
      " #   Column          Non-Null Count  Dtype\n",
      "---  ------          --------------  -----\n",
      " 0   Gender          200 non-null    int64\n",
      " 1   Age             200 non-null    int64\n",
      " 2   Annual_Income   200 non-null    int64\n",
      " 3   Spending_Score  200 non-null    int64\n",
      "dtypes: int64(4)\n",
      "memory usage: 6.4 KB\n"
     ]
    },
    {
     "data": {
      "text/html": [
       "<div>\n",
       "<style scoped>\n",
       "    .dataframe tbody tr th:only-of-type {\n",
       "        vertical-align: middle;\n",
       "    }\n",
       "\n",
       "    .dataframe tbody tr th {\n",
       "        vertical-align: top;\n",
       "    }\n",
       "\n",
       "    .dataframe thead th {\n",
       "        text-align: right;\n",
       "    }\n",
       "</style>\n",
       "<table border=\"1\" class=\"dataframe\">\n",
       "  <thead>\n",
       "    <tr style=\"text-align: right;\">\n",
       "      <th></th>\n",
       "      <th>Gender</th>\n",
       "      <th>Age</th>\n",
       "      <th>Annual_Income</th>\n",
       "      <th>Spending_Score</th>\n",
       "    </tr>\n",
       "  </thead>\n",
       "  <tbody>\n",
       "    <tr>\n",
       "      <th>count</th>\n",
       "      <td>200.000000</td>\n",
       "      <td>200.000000</td>\n",
       "      <td>200.000000</td>\n",
       "      <td>200.000000</td>\n",
       "    </tr>\n",
       "    <tr>\n",
       "      <th>mean</th>\n",
       "      <td>0.560000</td>\n",
       "      <td>38.850000</td>\n",
       "      <td>60.560000</td>\n",
       "      <td>50.200000</td>\n",
       "    </tr>\n",
       "    <tr>\n",
       "      <th>std</th>\n",
       "      <td>0.497633</td>\n",
       "      <td>13.969007</td>\n",
       "      <td>26.264721</td>\n",
       "      <td>25.823522</td>\n",
       "    </tr>\n",
       "    <tr>\n",
       "      <th>min</th>\n",
       "      <td>0.000000</td>\n",
       "      <td>18.000000</td>\n",
       "      <td>15.000000</td>\n",
       "      <td>1.000000</td>\n",
       "    </tr>\n",
       "    <tr>\n",
       "      <th>25%</th>\n",
       "      <td>0.000000</td>\n",
       "      <td>28.750000</td>\n",
       "      <td>41.500000</td>\n",
       "      <td>34.750000</td>\n",
       "    </tr>\n",
       "    <tr>\n",
       "      <th>50%</th>\n",
       "      <td>1.000000</td>\n",
       "      <td>36.000000</td>\n",
       "      <td>61.500000</td>\n",
       "      <td>50.000000</td>\n",
       "    </tr>\n",
       "    <tr>\n",
       "      <th>75%</th>\n",
       "      <td>1.000000</td>\n",
       "      <td>49.000000</td>\n",
       "      <td>78.000000</td>\n",
       "      <td>73.000000</td>\n",
       "    </tr>\n",
       "    <tr>\n",
       "      <th>max</th>\n",
       "      <td>1.000000</td>\n",
       "      <td>70.000000</td>\n",
       "      <td>137.000000</td>\n",
       "      <td>99.000000</td>\n",
       "    </tr>\n",
       "  </tbody>\n",
       "</table>\n",
       "</div>"
      ],
      "text/plain": [
       "           Gender         Age  Annual_Income  Spending_Score\n",
       "count  200.000000  200.000000     200.000000      200.000000\n",
       "mean     0.560000   38.850000      60.560000       50.200000\n",
       "std      0.497633   13.969007      26.264721       25.823522\n",
       "min      0.000000   18.000000      15.000000        1.000000\n",
       "25%      0.000000   28.750000      41.500000       34.750000\n",
       "50%      1.000000   36.000000      61.500000       50.000000\n",
       "75%      1.000000   49.000000      78.000000       73.000000\n",
       "max      1.000000   70.000000     137.000000       99.000000"
      ]
     },
     "execution_count": 2,
     "metadata": {},
     "output_type": "execute_result"
    }
   ],
   "source": [
    "df.columns = ['CustomerID', 'Gender', 'Age', 'Annual_Income', 'Spending_Score']\n",
    "df.drop('CustomerID', axis=1, inplace=True)\n",
    "\n",
    "df['Gender'] = df['Gender'].map({'Male': 0, 'Female': 1})\n",
    "\n",
    "df.info()\n",
    "df.describe()\n"
   ]
  },
  {
   "cell_type": "markdown",
   "id": "1ff6b7a9",
   "metadata": {
    "papermill": {
     "duration": 0.003817,
     "end_time": "2025-07-27T12:16:22.684148",
     "exception": false,
     "start_time": "2025-07-27T12:16:22.680331",
     "status": "completed"
    },
    "tags": []
   },
   "source": [
    "**3.Exploratory Data Analysis (EDA):**\n"
   ]
  },
  {
   "cell_type": "code",
   "execution_count": 3,
   "id": "42148892",
   "metadata": {
    "execution": {
     "iopub.execute_input": "2025-07-27T12:16:22.693452Z",
     "iopub.status.busy": "2025-07-27T12:16:22.693050Z",
     "iopub.status.idle": "2025-07-27T12:16:24.892228Z",
     "shell.execute_reply": "2025-07-27T12:16:24.891322Z"
    },
    "papermill": {
     "duration": 2.205573,
     "end_time": "2025-07-27T12:16:24.893606",
     "exception": false,
     "start_time": "2025-07-27T12:16:22.688033",
     "status": "completed"
    },
    "tags": []
   },
   "outputs": [
    {
     "data": {
      "image/png": "[encoded data removed]",
      "text/plain": [
       "<Figure size 640x480 with 1 Axes>"
      ]
     },
     "metadata": {},
     "output_type": "display_data"
    }
   ],
   "source": [
    "import matplotlib.pyplot as plt\n",
    "import seaborn as sns\n",
    "\n",
    "sns.countplot(data=df, x='Gender')\n",
    "plt.title(\"Gender Distribution\")\n",
    "plt.show()"
   ]
  },
  {
   "cell_type": "code",
   "execution_count": 4,
   "id": "d6887ace",
   "metadata": {
    "execution": {
     "iopub.execute_input": "2025-07-27T12:16:24.904737Z",
     "iopub.status.busy": "2025-07-27T12:16:24.904233Z",
     "iopub.status.idle": "2025-07-27T12:16:25.153438Z",
     "shell.execute_reply": "2025-07-27T12:16:25.152569Z"
    },
    "papermill": {
     "duration": 0.256468,
     "end_time": "2025-07-27T12:16:25.155086",
     "exception": false,
     "start_time": "2025-07-27T12:16:24.898618",
     "status": "completed"
    },
    "tags": []
   },
   "outputs": [
    {
     "name": "stderr",
     "output_type": "stream",
     "text": [
      "/usr/local/lib/python3.11/dist-packages/seaborn/_oldcore.py:1119: FutureWarning: use_inf_as_na option is deprecated and will be removed in a future version. Convert inf values to NaN before operating instead.\n",
      "  with pd.option_context('mode.use_inf_as_na', True):\n"
     ]
    },
    {
     "data": {
      "image/png": "[encoded data removed]",
      "text/plain": [
       "<Figure size 640x480 with 1 Axes>"
      ]
     },
     "metadata": {},
     "output_type": "display_data"
    }
   ],
   "source": [
    "sns.histplot(df['Age'], kde=True)\n",
    "plt.title(\"Age Distribution\")\n",
    "plt.show()"
   ]
  },
  {
   "cell_type": "code",
   "execution_count": 5,
   "id": "d6b8de51",
   "metadata": {
    "execution": {
     "iopub.execute_input": "2025-07-27T12:16:25.167449Z",
     "iopub.status.busy": "2025-07-27T12:16:25.167130Z",
     "iopub.status.idle": "2025-07-27T12:16:25.378589Z",
     "shell.execute_reply": "2025-07-27T12:16:25.377664Z"
    },
    "papermill": {
     "duration": 0.21886,
     "end_time": "2025-07-27T12:16:25.380081",
     "exception": false,
     "start_time": "2025-07-27T12:16:25.161221",
     "status": "completed"
    },
    "tags": []
   },
   "outputs": [
    {
     "data": {
      "image/png": "[encoded data removed]",
      "text/plain": [
       "<Figure size 640x480 with 1 Axes>"
      ]
     },
     "metadata": {},
     "output_type": "display_data"
    }
   ],
   "source": [
    "sns.scatterplot(data=df, x='Annual_Income', y='Spending_Score')\n",
    "plt.title(\"Income vs Spending Score\")\n",
    "plt.show()"
   ]
  },
  {
   "cell_type": "markdown",
   "id": "a39854bc",
   "metadata": {
    "papermill": {
     "duration": 0.005141,
     "end_time": "2025-07-27T12:16:25.390783",
     "exception": false,
     "start_time": "2025-07-27T12:16:25.385642",
     "status": "completed"
    },
    "tags": []
   },
   "source": [
    "**4.Feature Scaling:**"
   ]
  },
  {
   "cell_type": "code",
   "execution_count": 6,
   "id": "cc523849",
   "metadata": {
    "execution": {
     "iopub.execute_input": "2025-07-27T12:16:25.402458Z",
     "iopub.status.busy": "2025-07-27T12:16:25.402148Z",
     "iopub.status.idle": "2025-07-27T12:16:25.574582Z",
     "shell.execute_reply": "2025-07-27T12:16:25.573574Z"
    },
    "papermill": {
     "duration": 0.180329,
     "end_time": "2025-07-27T12:16:25.576282",
     "exception": false,
     "start_time": "2025-07-27T12:16:25.395953",
     "status": "completed"
    },
    "tags": []
   },
   "outputs": [],
   "source": [
    "from sklearn.preprocessing import StandardScaler\n",
    "\n",
    "X = df[['Age', 'Annual_Income', 'Spending_Score']]\n",
    "scaler = StandardScaler()\n",
    "X_scaled = scaler.fit_transform(X)\n"
   ]
  },
  {
   "cell_type": "markdown",
   "id": "ac0afe46",
   "metadata": {
    "papermill": {
     "duration": 0.005069,
     "end_time": "2025-07-27T12:16:25.586711",
     "exception": false,
     "start_time": "2025-07-27T12:16:25.581642",
     "status": "completed"
    },
    "tags": []
   },
   "source": [
    "**5.Finding Optimal Clusters (Elbow Method):**"
   ]
  },
  {
   "cell_type": "code",
   "execution_count": 7,
   "id": "9357c558",
   "metadata": {
    "execution": {
     "iopub.execute_input": "2025-07-27T12:16:25.598300Z",
     "iopub.status.busy": "2025-07-27T12:16:25.597993Z",
     "iopub.status.idle": "2025-07-27T12:16:26.495029Z",
     "shell.execute_reply": "2025-07-27T12:16:26.493961Z"
    },
    "papermill": {
     "duration": 0.904876,
     "end_time": "2025-07-27T12:16:26.496707",
     "exception": false,
     "start_time": "2025-07-27T12:16:25.591831",
     "status": "completed"
    },
    "tags": []
   },
   "outputs": [
    {
     "name": "stderr",
     "output_type": "stream",
     "text": [
      "/usr/local/lib/python3.11/dist-packages/sklearn/cluster/_kmeans.py:870: FutureWarning: The default value of `n_init` will change from 10 to 'auto' in 1.4. Set the value of `n_init` explicitly to suppress the warning\n",
      "  warnings.warn(\n",
      "/usr/local/lib/python3.11/dist-packages/sklearn/cluster/_kmeans.py:870: FutureWarning: The default value of `n_init` will change from 10 to 'auto' in 1.4. Set the value of `n_init` explicitly to suppress the warning\n",
      "  warnings.warn(\n",
      "/usr/local/lib/python3.11/dist-packages/sklearn/cluster/_kmeans.py:870: FutureWarning: The default value of `n_init` will change from 10 to 'auto' in 1.4. Set the value of `n_init` explicitly to suppress the warning\n",
      "  warnings.warn(\n",
      "/usr/local/lib/python3.11/dist-packages/sklearn/cluster/_kmeans.py:870: FutureWarning: The default value of `n_init` will change from 10 to 'auto' in 1.4. Set the value of `n_init` explicitly to suppress the warning\n",
      "  warnings.warn(\n",
      "/usr/local/lib/python3.11/dist-packages/sklearn/cluster/_kmeans.py:870: FutureWarning: The default value of `n_init` will change from 10 to 'auto' in 1.4. Set the value of `n_init` explicitly to suppress the warning\n",
      "  warnings.warn(\n",
      "/usr/local/lib/python3.11/dist-packages/sklearn/cluster/_kmeans.py:870: FutureWarning: The default value of `n_init` will change from 10 to 'auto' in 1.4. Set the value of `n_init` explicitly to suppress the warning\n",
      "  warnings.warn(\n",
      "/usr/local/lib/python3.11/dist-packages/sklearn/cluster/_kmeans.py:870: FutureWarning: The default value of `n_init` will change from 10 to 'auto' in 1.4. Set the value of `n_init` explicitly to suppress the warning\n",
      "  warnings.warn(\n",
      "/usr/local/lib/python3.11/dist-packages/sklearn/cluster/_kmeans.py:870: FutureWarning: The default value of `n_init` will change from 10 to 'auto' in 1.4. Set the value of `n_init` explicitly to suppress the warning\n",
      "  warnings.warn(\n",
      "/usr/local/lib/python3.11/dist-packages/sklearn/cluster/_kmeans.py:870: FutureWarning: The default value of `n_init` will change from 10 to 'auto' in 1.4. Set the value of `n_init` explicitly to suppress the warning\n",
      "  warnings.warn(\n",
      "/usr/local/lib/python3.11/dist-packages/sklearn/cluster/_kmeans.py:870: FutureWarning: The default value of `n_init` will change from 10 to 'auto' in 1.4. Set the value of `n_init` explicitly to suppress the warning\n",
      "  warnings.warn(\n"
     ]
    },
    {
     "data": {
      "image/png": "[encoded data removed]",
      "text/plain": [
       "<Figure size 640x480 with 1 Axes>"
      ]
     },
     "metadata": {},
     "output_type": "display_data"
    }
   ],
   "source": [
    "from sklearn.cluster import KMeans\n",
    "\n",
    "inertia = []\n",
    "for k in range(1, 11):\n",
    "    kmeans = KMeans(n_clusters=k, random_state=0)\n",
    "    kmeans.fit(X_scaled)\n",
    "    inertia.append(kmeans.inertia_)\n",
    "\n",
    "plt.plot(range(1, 11), inertia, marker='o')\n",
    "plt.title('Elbow Method')\n",
    "plt.xlabel('Number of Clusters')\n",
    "plt.ylabel('Inertia')\n",
    "plt.show()\n"
   ]
  },
  {
   "cell_type": "markdown",
   "id": "7bb44ceb",
   "metadata": {
    "papermill": {
     "duration": 0.005578,
     "end_time": "2025-07-27T12:16:26.508360",
     "exception": false,
     "start_time": "2025-07-27T12:16:26.502782",
     "status": "completed"
    },
    "tags": []
   },
   "source": [
    "**6.Applying K-Means Clustering:**"
   ]
  },
  {
   "cell_type": "code",
   "execution_count": 8,
   "id": "1cd6c7a1",
   "metadata": {
    "execution": {
     "iopub.execute_input": "2025-07-27T12:16:26.521347Z",
     "iopub.status.busy": "2025-07-27T12:16:26.521061Z",
     "iopub.status.idle": "2025-07-27T12:16:26.551463Z",
     "shell.execute_reply": "2025-07-27T12:16:26.550418Z"
    },
    "papermill": {
     "duration": 0.038705,
     "end_time": "2025-07-27T12:16:26.552975",
     "exception": false,
     "start_time": "2025-07-27T12:16:26.514270",
     "status": "completed"
    },
    "tags": []
   },
   "outputs": [
    {
     "name": "stderr",
     "output_type": "stream",
     "text": [
      "/usr/local/lib/python3.11/dist-packages/sklearn/cluster/_kmeans.py:870: FutureWarning: The default value of `n_init` will change from 10 to 'auto' in 1.4. Set the value of `n_init` explicitly to suppress the warning\n",
      "  warnings.warn(\n"
     ]
    },
    {
     "data": {
      "text/html": [
       "<div>\n",
       "<style scoped>\n",
       "    .dataframe tbody tr th:only-of-type {\n",
       "        vertical-align: middle;\n",
       "    }\n",
       "\n",
       "    .dataframe tbody tr th {\n",
       "        vertical-align: top;\n",
       "    }\n",
       "\n",
       "    .dataframe thead th {\n",
       "        text-align: right;\n",
       "    }\n",
       "</style>\n",
       "<table border=\"1\" class=\"dataframe\">\n",
       "  <thead>\n",
       "    <tr style=\"text-align: right;\">\n",
       "      <th></th>\n",
       "      <th>Gender</th>\n",
       "      <th>Age</th>\n",
       "      <th>Annual_Income</th>\n",
       "      <th>Spending_Score</th>\n",
       "      <th>Cluster</th>\n",
       "    </tr>\n",
       "  </thead>\n",
       "  <tbody>\n",
       "    <tr>\n",
       "      <th>0</th>\n",
       "      <td>0</td>\n",
       "      <td>19</td>\n",
       "      <td>15</td>\n",
       "      <td>39</td>\n",
       "      <td>2</td>\n",
       "    </tr>\n",
       "    <tr>\n",
       "      <th>1</th>\n",
       "      <td>0</td>\n",
       "      <td>21</td>\n",
       "      <td>15</td>\n",
       "      <td>81</td>\n",
       "      <td>2</td>\n",
       "    </tr>\n",
       "    <tr>\n",
       "      <th>2</th>\n",
       "      <td>1</td>\n",
       "      <td>20</td>\n",
       "      <td>16</td>\n",
       "      <td>6</td>\n",
       "      <td>3</td>\n",
       "    </tr>\n",
       "    <tr>\n",
       "      <th>3</th>\n",
       "      <td>1</td>\n",
       "      <td>23</td>\n",
       "      <td>16</td>\n",
       "      <td>77</td>\n",
       "      <td>2</td>\n",
       "    </tr>\n",
       "    <tr>\n",
       "      <th>4</th>\n",
       "      <td>1</td>\n",
       "      <td>31</td>\n",
       "      <td>17</td>\n",
       "      <td>40</td>\n",
       "      <td>2</td>\n",
       "    </tr>\n",
       "  </tbody>\n",
       "</table>\n",
       "</div>"
      ],
      "text/plain": [
       "   Gender  Age  Annual_Income  Spending_Score  Cluster\n",
       "0       0   19             15              39        2\n",
       "1       0   21             15              81        2\n",
       "2       1   20             16               6        3\n",
       "3       1   23             16              77        2\n",
       "4       1   31             17              40        2"
      ]
     },
     "execution_count": 8,
     "metadata": {},
     "output_type": "execute_result"
    }
   ],
   "source": [
    "kmeans = KMeans(n_clusters=5, random_state=0)\n",
    "df['Cluster'] = kmeans.fit_predict(X_scaled)\n",
    "df.head()"
   ]
  },
  {
   "cell_type": "markdown",
   "id": "5dfb15b2",
   "metadata": {
    "papermill": {
     "duration": 0.005643,
     "end_time": "2025-07-27T12:16:26.564788",
     "exception": false,
     "start_time": "2025-07-27T12:16:26.559145",
     "status": "completed"
    },
    "tags": []
   },
   "source": [
    "**7.Visualize Customer Segments:**"
   ]
  },
  {
   "cell_type": "code",
   "execution_count": 9,
   "id": "6746cc95",
   "metadata": {
    "execution": {
     "iopub.execute_input": "2025-07-27T12:16:26.578134Z",
     "iopub.status.busy": "2025-07-27T12:16:26.577768Z",
     "iopub.status.idle": "2025-07-27T12:16:26.896468Z",
     "shell.execute_reply": "2025-07-27T12:16:26.895588Z"
    },
    "papermill": {
     "duration": 0.327682,
     "end_time": "2025-07-27T12:16:26.898279",
     "exception": false,
     "start_time": "2025-07-27T12:16:26.570597",
     "status": "completed"
    },
    "tags": []
   },
   "outputs": [
    {
     "data": {
      "image/png": "[encoded data removed]",
      "text/plain": [
       "<Figure size 640x480 with 1 Axes>"
      ]
     },
     "metadata": {},
     "output_type": "display_data"
    }
   ],
   "source": [
    "sns.scatterplot(data=df, x='Annual_Income', y='Spending_Score', hue='Cluster', palette='Set2')\n",
    "plt.title(\"Customer Segments\")\n",
    "plt.show()\n"
   ]
  },
  {
   "cell_type": "markdown",
   "id": "f3f419d5",
   "metadata": {
    "papermill": {
     "duration": 0.006857,
     "end_time": "2025-07-27T12:16:26.912601",
     "exception": false,
     "start_time": "2025-07-27T12:16:26.905744",
     "status": "completed"
    },
    "tags": []
   },
   "source": [
    "**8.Analyze Cluster Profiles:**"
   ]
  },
  {
   "cell_type": "code",
   "execution_count": 10,
   "id": "aebab231",
   "metadata": {
    "execution": {
     "iopub.execute_input": "2025-07-27T12:16:26.928135Z",
     "iopub.status.busy": "2025-07-27T12:16:26.927788Z",
     "iopub.status.idle": "2025-07-27T12:16:26.942017Z",
     "shell.execute_reply": "2025-07-27T12:16:26.941077Z"
    },
    "papermill": {
     "duration": 0.023552,
     "end_time": "2025-07-27T12:16:26.943533",
     "exception": false,
     "start_time": "2025-07-27T12:16:26.919981",
     "status": "completed"
    },
    "tags": []
   },
   "outputs": [
    {
     "data": {
      "text/html": [
       "<div>\n",
       "<style scoped>\n",
       "    .dataframe tbody tr th:only-of-type {\n",
       "        vertical-align: middle;\n",
       "    }\n",
       "\n",
       "    .dataframe tbody tr th {\n",
       "        vertical-align: top;\n",
       "    }\n",
       "\n",
       "    .dataframe thead th {\n",
       "        text-align: right;\n",
       "    }\n",
       "</style>\n",
       "<table border=\"1\" class=\"dataframe\">\n",
       "  <thead>\n",
       "    <tr style=\"text-align: right;\">\n",
       "      <th></th>\n",
       "      <th>Gender</th>\n",
       "      <th>Age</th>\n",
       "      <th>Annual_Income</th>\n",
       "      <th>Spending_Score</th>\n",
       "    </tr>\n",
       "    <tr>\n",
       "      <th>Cluster</th>\n",
       "      <th></th>\n",
       "      <th></th>\n",
       "      <th></th>\n",
       "      <th></th>\n",
       "    </tr>\n",
       "  </thead>\n",
       "  <tbody>\n",
       "    <tr>\n",
       "      <th>0</th>\n",
       "      <td>0.487179</td>\n",
       "      <td>39.871795</td>\n",
       "      <td>86.102564</td>\n",
       "      <td>19.358974</td>\n",
       "    </tr>\n",
       "    <tr>\n",
       "      <th>1</th>\n",
       "      <td>0.574468</td>\n",
       "      <td>55.638298</td>\n",
       "      <td>54.382979</td>\n",
       "      <td>48.851064</td>\n",
       "    </tr>\n",
       "    <tr>\n",
       "      <th>2</th>\n",
       "      <td>0.592593</td>\n",
       "      <td>25.185185</td>\n",
       "      <td>41.092593</td>\n",
       "      <td>62.240741</td>\n",
       "    </tr>\n",
       "    <tr>\n",
       "      <th>3</th>\n",
       "      <td>0.600000</td>\n",
       "      <td>46.250000</td>\n",
       "      <td>26.750000</td>\n",
       "      <td>18.350000</td>\n",
       "    </tr>\n",
       "    <tr>\n",
       "      <th>4</th>\n",
       "      <td>0.550000</td>\n",
       "      <td>32.875000</td>\n",
       "      <td>86.100000</td>\n",
       "      <td>81.525000</td>\n",
       "    </tr>\n",
       "  </tbody>\n",
       "</table>\n",
       "</div>"
      ],
      "text/plain": [
       "           Gender        Age  Annual_Income  Spending_Score\n",
       "Cluster                                                    \n",
       "0        0.487179  39.871795      86.102564       19.358974\n",
       "1        0.574468  55.638298      54.382979       48.851064\n",
       "2        0.592593  25.185185      41.092593       62.240741\n",
       "3        0.600000  46.250000      26.750000       18.350000\n",
       "4        0.550000  32.875000      86.100000       81.525000"
      ]
     },
     "execution_count": 10,
     "metadata": {},
     "output_type": "execute_result"
    }
   ],
   "source": [
    "df.groupby('Cluster').mean(numeric_only=True)\n"
   ]
  },
  {
   "cell_type": "markdown",
   "id": "962a9a89",
   "metadata": {
    "papermill": {
     "duration": 0.006848,
     "end_time": "2025-07-27T12:16:26.957880",
     "exception": false,
     "start_time": "2025-07-27T12:16:26.951032",
     "status": "completed"
    },
    "tags": []
   },
   "source": [
    "**Segment Summary:**\n",
    "\n",
    "**1)Cluster 0 - Careful Big Earners**: High income but low spending. Consider premium loyalty programs or targeted ads.\n",
    "\n",
    "**2)Cluster 1 - Mature Average Shoppers**: Older adults with stable spending. Retain via loyalty schemes.\n",
    "\n",
    "**3)Cluster 2 - Young Impulse Buyers**: Low income, high spending youth. Target with trend-based and budget campaigns.\n",
    "\n",
    "**4)Cluster 3 - Low Value Segment**: Low income and low spending. Minimal marketing focus.\n",
    "\n",
    "**5)Cluster 4 - Premium Customers**: High income and high spending. VIP treatment, personalized experiences recommended.\n"
   ]
  },
  {
   "cell_type": "markdown",
   "id": "4a93acec",
   "metadata": {
    "papermill": {
     "duration": 0.006776,
     "end_time": "2025-07-27T12:16:26.971880",
     "exception": false,
     "start_time": "2025-07-27T12:16:26.965104",
     "status": "completed"
    },
    "tags": []
   },
   "source": [
    "**Business Insights:**\n",
    "\n",
    "--> Segment-based marketing is more effective than general strategies.\n",
    "\n",
    "--> Target Clusters 2 and 4 for immediate sales growth.\n",
    "\n",
    "--> Focus on converting Cluster 0 with personalized offers.\n",
    "\n",
    "--> Use Cluster 1 for steady revenue and retention programs.\n",
    "\n",
    "--> Minimize marketing cost on Cluster 3.\n"
   ]
  },
  {
   "cell_type": "markdown",
   "id": "b0c33593",
   "metadata": {
    "papermill": {
     "duration": 0.006866,
     "end_time": "2025-07-27T12:16:26.985767",
     "exception": false,
     "start_time": "2025-07-27T12:16:26.978901",
     "status": "completed"
    },
    "tags": []
   },
   "source": [
    "**Conclusion:**\n",
    "\n",
    "Customer segmentation using K-Means revealed five distinct groups, allowing for personalized marketing and smarter resource allocation. This can significantly improve both customer satisfaction and business revenue.\n"
   ]
  }
 ],
 "metadata": {
  "kaggle": {
   "accelerator": "none",
   "dataSources": [
    {
     "datasetId": 7887459,
     "sourceId": 12497856,
     "sourceType": "datasetVersion"
    }
   ],
   "dockerImageVersionId": 31089,
   "isGpuEnabled": false,
   "isInternetEnabled": false,
   "language": "python",
   "sourceType": "notebook"
  },
  "kernelspec": {
   "display_name": "Python 3",
   "language": "python",
   "name": "python3"
  },
  "language_info": {
   "codemirror_mode": {
    "name": "ipython",
    "version": 3
   },
   "file_extension": ".py",
   "mimetype": "text/x-python",
   "name": "python",
   "nbconvert_exporter": "python",
   "pygments_lexer": "ipython3",
   "version": "3.11.13"
  },
  "papermill": {
   "default_parameters": {},
   "duration": 11.96665,
   "end_time": "2025-07-27T12:16:27.713377",
   "environment_variables": {},
   "exception": null,
   "input_path": "__notebook__.ipynb",
   "output_path": "__notebook__.ipynb",
   "parameters": {},
   "start_time": "2025-07-27T12:16:15.746727",
   "version": "2.6.0"
  }
 },
 "nbformat": 4,
 "nbformat_minor": 5
}
